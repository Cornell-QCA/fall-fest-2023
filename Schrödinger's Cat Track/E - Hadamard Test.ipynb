{
 "cells": [
  {
   "cell_type": "code",
   "execution_count": null,
   "id": "ba97ac8a-2cbf-4214-88dc-cf6d2c5294ec",
   "metadata": {
    "tags": []
   },
   "outputs": [],
   "source": [
    "# Importing standard Qiskit libraries\n",
    "from qiskit import *\n",
    "from qiskit.tools.jupyter import *\n",
    "from qiskit.visualization import *\n",
    "from qiskit.primitives import Sampler as Sampler\n",
    "from qiskit_ibm_runtime import QiskitRuntimeService\n",
    "from qiskit import Aer\n",
    "from qiskit import BasicAer, execute\n",
    "from qiskit.circuit.random import random_circuit\n",
    "from qiskit import QuantumRegister\n",
    "import numpy as np\n",
    "from qiskit import ClassicalRegister\n",
    "service = QiskitRuntimeService(channel=\"ibm_quantum\")"
   ]
  },
  {
   "cell_type": "markdown",
   "id": "2befa791-cf27-4fb5-a5b9-597af2eb85d6",
   "metadata": {},
   "source": [
    "# Q2. Estimating different trace quantities\n",
    "\n",
    "This notebook consists of different questions that are about estimating different trace quantities."
   ]
  },
  {
   "cell_type": "markdown",
   "id": "cf4b5081-30e8-4419-ac8a-e4c4f9c51ebd",
   "metadata": {},
   "source": [
    "## Q2.1 Estimate $\\operatorname{Re} \\langle \\psi \\vert U \\vert \\psi \\rangle$ given access to $U$ and $U_\\psi$ that prepares $\\psi$.\n",
    "\n",
    "Your job is to give the implementation of a function, whose definition is given below. Just fill in between the specified region. If you need help, you can go through the class notes. "
   ]
  },
  {
   "cell_type": "code",
   "execution_count": null,
   "id": "0b199b8a-5beb-4a88-afb7-6d99bbf9eb3a",
   "metadata": {
    "tags": []
   },
   "outputs": [],
   "source": [
    "def calc_real_avg(U, U_psi):\n",
    "    '''\n",
    "    Assume U and U_psi are given in the form of a QuantumCircuit.\n",
    "    To extract U from the QuantumCircuit, you can use the circuit.to_gate() function that returns a gate version of U. \n",
    "    If you need a controlled version of a unitary, use the gate.control(num_ctrl_qubits) to get a controlled version.\n",
    "    '''\n",
    "    num_qubits = U.num_qubits #num_qubits is the number of qubits in the state psi and U.\n",
    "    \n",
    "    ### Make changes only between these lines. In this area, define a QuantumCircuit along with the necessary measurements. \n",
    "    \n",
    "    # -------------------------------------------------------\n",
    "    \n",
    "        \n",
    "    # -------------------------------------------------------\n",
    "    ### The following code calculates the probability of measuring '0' and '1' for the circuit defined above and stores it in p0 and p1. \n",
    "    \n",
    "    sampler = Sampler()\n",
    "    job = sampler.run(circ)\n",
    "    dict = job.result().quasi_dists[0]\n",
    "    p0 = dict.get(0, 0.0)\n",
    "    p1 = dict.get(1, 0.0)\n",
    "    \n",
    "    ### Make changes only between the lines below. Next, do the necessary processing to return the function of interest. Store the result in a variable called result.\n",
    "    # -------------------------------------------------------\n",
    "    \n",
    "    # -------------------------------------------------------\n",
    "    \n",
    "    return result"
   ]
  },
  {
   "cell_type": "code",
   "execution_count": null,
   "id": "7ee1a6c8-c28a-4014-a680-3eac574905e6",
   "metadata": {
    "tags": []
   },
   "outputs": [],
   "source": [
    "def calc_real_avg_classical(U, U_psi):\n",
    "    '''\n",
    "    Assume U and U_psi are given in the form of QuantumCircuit. Extract the density matrix and unitary operator\n",
    "    and classically calculates the value. This is already given, and you can use it to check if your value is correct.\n",
    "    '''\n",
    "    backend = Aer.get_backend('unitary_simulator')\n",
    "    job = execute(U.reverse_bits(), backend)\n",
    "    result = job.result()\n",
    "    U_mat = np.asarray(result.get_unitary(U.reverse_bits(), 3))\n",
    "    \n",
    "    backend = Aer.get_backend('statevector_simulator')\n",
    "    job = backend.run(U_psi.reverse_bits())\n",
    "    result = job.result()\n",
    "    psi_mat = np.asarray(result.get_statevector(U_psi.reverse_bits(), decimals=3))\n",
    "    \n",
    "    val = psi_mat.conjugate() @ U_mat @ psi_mat\n",
    "    return np.real(val)"
   ]
  },
  {
   "cell_type": "markdown",
   "id": "d74ce90c-b705-459a-9e3d-082426552f3a",
   "metadata": {},
   "source": [
    "## Q2.2 Estimate $\\operatorname{Im} \\langle \\psi \\vert U \\vert \\psi \\rangle$ given access to $U$ and $U_\\psi$ that prepares $\\psi$.\n",
    "\n",
    "Your job is to implement a function, whose definition is given below. Just fill in between the specified region. The circuit is a simple modification of the circuit above.\n",
    "\n",
    "Hint 1: Work backward from the derivation from class. \n",
    "\n",
    "Hint 2: You need imaginary numbers. \n",
    "\n",
    "Hint 3: Qiskit has an S gate https://qiskit.org/documentation/stubs/qiskit.circuit.QuantumCircuit.html#qiskit.circuit.QuantumCircuit.s"
   ]
  },
  {
   "cell_type": "code",
   "execution_count": null,
   "id": "36e9c965-171b-43f8-9bee-825a0f2e9368",
   "metadata": {
    "tags": []
   },
   "outputs": [],
   "source": [
    "def calc_imaginary_avg(U, U_psi):\n",
    "    '''\n",
    "    Assume U and U_psi are given in the form of QuantumCircuit.\n",
    "    To extract U from the QuantumCircuit, you can use the circuit.to_gate() function that returns a gate version of U. \n",
    "    If you need a controlled version of a unitary, use the gate.control(num_ctrl_qubits) to get a controlled version.\n",
    "    '''\n",
    "    num_qubits = U.num_qubits #num_qubits is the number of qubits in the state \\psi and U.\n",
    "    \n",
    "    ### Make changes only between the lines below. In this area, define a QuantumCircuit along with the necessary measurements. \n",
    "    \n",
    "    # -------------------------------------------------------\n",
    "\n",
    "    # -------------------------------------------------------\n",
    "    \n",
    "    ### The following code calculates the probability of measuring '0' and '1' for the circuit defined above and stores it in a dictionary. \n",
    "    \n",
    "    sampler = Sampler()\n",
    "    job = sampler.run(circ)\n",
    "    dict = job.result().quasi_dists[0]\n",
    "    p0 = dict.get(0, 0.0)\n",
    "    p1 = dict.get(1, 0.0)\n",
    "    \n",
    "    ### Make changes only between the lines below. Next, do the necessary processing to return the function of interest. Store the result in a variable called result.\n",
    "    # -------------------------------------------------------\n",
    "\n",
    "    # -------------------------------------------------------\n",
    "    \n",
    "    return result"
   ]
  },
  {
   "cell_type": "code",
   "execution_count": null,
   "id": "eba62def-31c7-48d5-97e7-dfae6b70e832",
   "metadata": {
    "tags": []
   },
   "outputs": [],
   "source": [
    "def calc_imaginary_avg_classical(U, U_psi):\n",
    "    '''\n",
    "    Assume U and U_psi are given in the form of QuantumCircuit. Extract the density matrix and unitary operator\n",
    "    and classically calculates the value. This is already given, and you can use it to check if your value is correct.\n",
    "    '''\n",
    "    backend = Aer.get_backend('unitary_simulator')\n",
    "    job = execute(U, backend)\n",
    "    result = job.result()\n",
    "    U_mat = np.asarray(result.get_unitary(U, 3))\n",
    "    \n",
    "    backend = Aer.get_backend('statevector_simulator')\n",
    "    job = backend.run(U_psi)\n",
    "    result = job.result()\n",
    "    psi_mat = np.asarray(result.get_statevector(U_psi, decimals=3))\n",
    "    \n",
    "    val = psi_mat.conjugate() @ U_mat @ psi_mat\n",
    "    return np.imag(val)"
   ]
  },
  {
   "cell_type": "markdown",
   "id": "9bc51490-3762-44b7-b445-ca2c093883c8",
   "metadata": {},
   "source": [
    "## Q2.3 Estimate $\\langle \\psi \\vert U \\vert \\psi \\rangle$ given access to $U$ and $U_\\psi$ that prepares $\\psi$.\n",
    "\n",
    "Use the previous two functions you defined to return the required value."
   ]
  },
  {
   "cell_type": "code",
   "execution_count": null,
   "id": "703aab48-dbd6-47db-ab74-52eb6c789ca4",
   "metadata": {
    "tags": []
   },
   "outputs": [],
   "source": [
    "def calc_avg(U, U_psi):\n",
    "    ### Make changes only between the lines below. In this area, define a QuantumCircuit along with the necessary measurements. \n",
    "    ### Store the value in a variable called result that hold the full complex number.\n",
    "    # -------------------------------------------------------\n",
    "    \n",
    "    # -------------------------------------------------------\n",
    "    #End changes here.\n",
    "    return result"
   ]
  },
  {
   "cell_type": "code",
   "execution_count": null,
   "id": "61c33bc7-0416-40e4-8502-8fee62c3e106",
   "metadata": {
    "tags": []
   },
   "outputs": [],
   "source": [
    "def calc_avg_classical(U, U_psi):\n",
    "    '''\n",
    "    This is already given, and you can use it to check if your value is correct.\n",
    "    '''\n",
    "    return calc_real_avg_classical(U, U_psi) + 1j*calc_imaginary_avg_classical(U, U_psi)"
   ]
  },
  {
   "cell_type": "markdown",
   "id": "d7c76411-5e7b-4436-83c8-b83e56bd58af",
   "metadata": {},
   "source": [
    "Nice! You now worked out how to compute the expectation value of a given unitary and input state! This circuit construction is at the heart of a lot of quantum algorithms, like\n",
    "quantum phase estimation, Shor's algorithm, etc. So, if you see a similar structure, you already know what they're trying to accomplish."
   ]
  },
  {
   "cell_type": "markdown",
   "id": "ba67b964-687a-488f-ac6d-3471d0cbf2a4",
   "metadata": {},
   "source": [
    "# Q2.4 SWAP Test - Linear Depth.\n",
    "\n",
    "This question is about implementing the SWAP test on two given pure states. Given the previous question, this should simply reduce to picking the right unitary U!\n",
    "You are given access to $U_{\\psi^1}$ and $U_{\\psi^2}$ that prepares $\\psi^1$ and $\\psi^2$, respectively.\n",
    "\n"
   ]
  },
  {
   "cell_type": "code",
   "execution_count": null,
   "id": "42e628ce-5c84-4b65-bb0f-63a4413223f5",
   "metadata": {
    "tags": []
   },
   "outputs": [],
   "source": [
    "def calc_swap_test(U_psi1, U_psi2):\n",
    "    '''\n",
    "    Assume U_psi1 and U_psi2 are given in the form of QuantumCircuit.\n",
    "    '''\n",
    "    num_qubits = U_psi1.num_qubits\n",
    "    \n",
    "    ### Make changes only between the lines below. In this area, define a QuantumCircuit along with the necessary measurements. \n",
    "    ### First, define a QuantumCircuit implementing the necessary U and U_psi.\n",
    "    ### Store final result in a variable result.\n",
    "    \n",
    "    # -------------------------------------------------------\n",
    "     \n",
    "    # -------------------------------------------------------\n",
    "    \n",
    "    return np.real(result)"
   ]
  },
  {
   "cell_type": "markdown",
   "id": "46f3c2af-ec8e-4295-be4b-dbc5fa75b3b2",
   "metadata": {
    "tags": []
   },
   "source": [
    "Sweet! SWAP Test for pure states done. "
   ]
  },
  {
   "cell_type": "markdown",
   "id": "e16b44ea-2706-49b4-bc35-ec09e56009fc",
   "metadata": {},
   "source": [
    "# Q2.5 SWAP Test - Depth Reduction.\n",
    "\n",
    "The depth of the previous construction is linear in the number of qubits of the input states. Your objective is to replace the control qubit with a GHZ state.\n",
    "(In all seriousness, the creation of the GHZ state needs to be modified in order for it to be done in constant quantum depth, and a construction is shown in Figure 1  of https://arxiv.org/abs/2206.15405. For simplicity, prepare the GHZ state in the straightforward way.)"
   ]
  },
  {
   "cell_type": "code",
   "execution_count": null,
   "id": "fc936c92-ac89-4a15-b367-544dba692bee",
   "metadata": {
    "tags": []
   },
   "outputs": [],
   "source": [
    "def calc_swap_test_depth(U_psi1, U_psi2):\n",
    "    '''\n",
    "    Assume U_psi1 and U_psi2 are given in the form of QuantumCircuit.\n",
    "    '''\n",
    "    num_qubits = U_psi1.num_qubits\n",
    "    \n",
    "    ### Make changes only between the lines below. In this area, define a QuantumCircuit along with the necessary measurements. \n",
    "    ### Now, the single control qubit is replaced with num_qubit number of ancillas.\n",
    "    ### Store final result in a variable result.\n",
    "    \n",
    "    # -------------------------------------------------------\n",
    "    \n",
    "    # -------------------------------------------------------\n",
    "    ###The following code calculates the probability of measuring '0' and '1' for the circuit defined above and stores it in a dictionary. \n",
    "    \n",
    "    sampler = Sampler()\n",
    "    job = sampler.run(circ)\n",
    "    dict = job.result().quasi_dists[0]\n",
    "    p0 = dict.get(0, 0.0)\n",
    "    p1 = dict.get(1, 0.0)\n",
    "    \n",
    "    ### Make changes only between the lines below. Next, do the necessary processing to return the function of interest. Store the result in a variable called result.    \n",
    "    # -------------------------------------------------------\n",
    "\n",
    "    # -------------------------------------------------------\n",
    "    return np.real(result)\n"
   ]
  },
  {
   "cell_type": "markdown",
   "id": "d2c605fa-52e3-4c8c-a214-ac04cff9b45d",
   "metadata": {
    "tags": []
   },
   "source": [
    "# Q2.6 Destructive SWAP Test - 1 qubit states\n",
    "\n",
    "The aim of this question is to implement the destructive SWAP test for two one-qubit states. From the class notes, we know that SWAP can be written as \n",
    "\n",
    "$$ \\operatorname{SWAP} = \\Phi^+ + \\Phi^- + \\Psi^+ - \\Psi^-$$\n",
    "\n",
    "So, the idea to perform the Bell measurement (Refer to the Quantum Teleportation question for the Bell measurement). Since two qubits are measured, the outcomes are given by\n",
    "\n",
    "\\begin{equation}\n",
    "00 \\leftrightarrow \\Phi^+ \\\\\n",
    "01 \\leftrightarrow \\Phi^- \\\\\n",
    "10 \\leftrightarrow \\Psi^+ \\\\\n",
    "11 \\leftrightarrow \\Psi^-. \n",
    "\\end{equation}\n",
    "\n",
    "So in case of any of the first three outcomes, add +1 and in case of the fourth outcome, add -1."
   ]
  },
  {
   "cell_type": "code",
   "execution_count": null,
   "id": "f6ef4d6f-196c-4997-9e5e-b31bccd6b009",
   "metadata": {
    "tags": []
   },
   "outputs": [],
   "source": [
    "def calc_dest_swap_test_one_qubit(U_psi1, U_psi2):\n",
    "    '''\n",
    "    Assume U_psi1 and U_psi2 are given in the form of QuantumCircuit and are single qubit states. The circuit was discussed in the class notes.\n",
    "    '''\n",
    "    ### Make changes only between the lines below. In this area, define a QuantumCircuit along with the necessary measurements. \n",
    "    \n",
    "    # -------------------------------------------------------\n",
    "     \n",
    "    # -------------------------------------------------------\n",
    "    ###The following code calculates the probability of measuring four different outcomes and stores it in a dictionary.\n",
    "    \n",
    "    sampler = Sampler()\n",
    "    job = sampler.run(circ.reverse_bits())\n",
    "    temp_dict = job.result().quasi_dists[0]\n",
    "    dict = {}\n",
    "    for i in range(4):\n",
    "        b = '{0:02b}'.format(i)\n",
    "        if (i in temp_dict):\n",
    "            dict[b] = temp_dict[i]\n",
    "        else:\n",
    "            dict[b] = 0.0\n",
    "    \n",
    "    ### Make changes only between the lines below. Next, do the necessary processing to return the function of interest. Store the result in a variable called result.\n",
    "    \n",
    "    # -------------------------------------------------------\n",
    "    \n",
    "    # -------------------------------------------------------\n",
    "    return result"
   ]
  },
  {
   "cell_type": "markdown",
   "id": "c6db2985-89cc-4d99-8757-538f9b5255ef",
   "metadata": {},
   "source": [
    "# Q2.7 Destructive SWAP Test\n",
    "\n",
    "In this question, the aim is to implement the destructive SWAP test on an arbitrary number of qubits. The circuit is found in Fig. 2 in https://arxiv.org/abs/2309.02515. You need to define a function implement the circuit given and return the value of the SWAP test."
   ]
  },
  {
   "cell_type": "code",
   "execution_count": null,
   "id": "6ca04e91-c818-48bb-a9b3-c8f9c39993f1",
   "metadata": {
    "tags": []
   },
   "outputs": [],
   "source": [
    "def calc_dest_swap_test(U_psi1, U_psi2):\n",
    "    '''\n",
    "    Assume U_psi1 and U_psi2 are given in the form of QuantumCircuit. \n",
    "    '''\n",
    "    num_qubits = U_psi1.num_qubits\n",
    "    ### Make changes only between the lines below. In this area, define a QuantumCircuit along with the necessary measurements. \n",
    "    \n",
    "    # -------------------------------------------------------\n",
    "        \n",
    "    # -------------------------------------------------------\n",
    "    ###The following code calculates the probability of measuring four different outcomes and stores it in a dictionary.\n",
    "    \n",
    "    sampler = Sampler()\n",
    "    job = sampler.run(circ.reverse_bits())\n",
    "    temp_dict = job.result().quasi_dists[0]\n",
    "    dict = {}\n",
    "    for i in range(2**(2*num_qubits)):\n",
    "        nq = 2*num_qubits\n",
    "        b = bin(i)[2:].zfill(nq)\n",
    "        if (i in temp_dict):\n",
    "            dict[b] = temp_dict[i]\n",
    "        else:\n",
    "            dict[b] = 0.0\n",
    "    \n",
    "    ### Make changes only between these lines. Next, do the necessary processing to return the function of interest. \n",
    "    \n",
    "    ### Hint : For every element in the dictionary, extract the two halves of the string, and find their dot product. \n",
    "    ### Compute (-1)^(dot product), multiply it with the probability of getting the particular element of the\n",
    "    ### dictionary and add them up. \n",
    "    ### Store the result in a variable called result.\n",
    "    \n",
    "    # -------------------------------------------------------\n",
    "        \n",
    "    # -------------------------------------------------------\n",
    "    \n",
    "    return result"
   ]
  },
  {
   "cell_type": "markdown",
   "id": "186d89d5-181a-4ca2-a374-55e7585d24f4",
   "metadata": {
    "tags": []
   },
   "source": [
    "The destructive SWAP test uses only CNOT gates and measurements, as opposed to the non-destructive SWAP test that needs controlled-SWAP gates,\n",
    "which are three qubit operations. The destructive swap test also does not need an extra ancilla qubit. \n",
    "\n",
    "So what's the downside? After the destructive swap test, the post measurement state is not the desired state. In most scenarios, we're only interested in the \n",
    "swap test value, so you should opt for the destructive swap test."
   ]
  },
  {
   "cell_type": "markdown",
   "id": "41ca7802-fb7f-4f88-9b06-302be697c06a",
   "metadata": {},
   "source": [
    "# Well done!"
   ]
  }
 ],
 "metadata": {
  "kernelspec": {
   "display_name": "Python 3 (ipykernel)",
   "language": "python",
   "name": "python3"
  },
  "language_info": {
   "codemirror_mode": {
    "name": "ipython",
    "version": 3
   },
   "file_extension": ".py",
   "mimetype": "text/x-python",
   "name": "python",
   "nbconvert_exporter": "python",
   "pygments_lexer": "ipython3",
   "version": "3.10.8"
  },
  "widgets": {
   "application/vnd.jupyter.widget-state+json": {
    "state": {},
    "version_major": 2,
    "version_minor": 0
   }
  }
 },
 "nbformat": 4,
 "nbformat_minor": 5
}
